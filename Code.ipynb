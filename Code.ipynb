{
 "cells": [
  {
   "cell_type": "code",
   "execution_count": null,
   "id": "00b3f09f",
   "metadata": {},
   "outputs": [],
   "source": [
    "# Draw rect, circle and line on a white image using OpenCV\n",
    "import cv2\n",
    "import numpy as np\n",
    "\n",
    "img = np.zeros((512,512,3),np.uint8)\n",
    "img[:] = 255,255,255\n",
    "cv2.line(img,(0,0),(200,200),(255,0,0),3)\n",
    "# (image_name ,  starting point , ending point ,color , Thickness)\n",
    "#cv2.line(img.shape[1],image.shape[0],(255,0,0),3)\n",
    "              # Widht , Height \n",
    "cv2.rectangle(img,(200,300),(350,450),(0,0,255),cv2.FILLED)\n",
    "# (image_name ,  starting point , ending point ,color , Thickness/Filled shape)\n",
    "cv2.circle(img,(400,50),30,(255,0,255),cv2.FILLED)\n",
    "# (image_name , center ,radius ,color , Thickness/Filled shape)\n",
    "cv2.imshow(\"Result1\", img)\n",
    "cv2.waitKey(0)"
   ]
  },
  {
   "cell_type": "code",
   "execution_count": null,
   "id": "a9fd9552",
   "metadata": {},
   "outputs": [],
   "source": [
    "#. Convert the transparent background to black color without affecting the physicalboxes.\n",
    "import cv2 as cv\n",
    "\n",
    "Image = cv.imread(\"1.png\", cv.IMREAD_UNCHANGED)\n",
    "trasn_mask = Image[:,:,3 ]==0\n",
    "\n",
    "Image[trasn_mask]=[0,0,0,0]\n",
    "cv.imwrite(\"result2.png\", Image)\n",
    "resized = cv.resize(Image, None, fx=0.5, fy=0.5)\n",
    "cv.imshow('result2', resized)\n",
    "cv.waitKey(0)"
   ]
  },
  {
   "cell_type": "code",
   "execution_count": null,
   "id": "a863c5ac",
   "metadata": {},
   "outputs": [],
   "source": [
    "#. Convert the transparent background to black color without affecting the physical boxes.\n",
    "import cv2 as cv\n",
    "\n",
    "Image = cv.imread(\"2.png\", cv.IMREAD_UNCHANGED)\n",
    "trasn_mask = Image[:,:,3 ]==0\n",
    "\n",
    "Image[trasn_mask]=[0,0,0,0]\n",
    "cv.imwrite(\"result3.png\", Image)\n",
    "resized = cv.resize(Image, None, fx=0.5, fy=0.5)\n",
    "cv.imshow('result3', resized)\n",
    "cv.waitKey(0)"
   ]
  },
  {
   "cell_type": "code",
   "execution_count": null,
   "id": "e9f13dcc",
   "metadata": {},
   "outputs": [],
   "source": []
  },
  {
   "cell_type": "code",
   "execution_count": null,
   "id": "915737f5",
   "metadata": {},
   "outputs": [],
   "source": []
  },
  {
   "cell_type": "code",
   "execution_count": null,
   "id": "39916734",
   "metadata": {},
   "outputs": [],
   "source": []
  },
  {
   "cell_type": "code",
   "execution_count": null,
   "id": "73bb825a",
   "metadata": {},
   "outputs": [],
   "source": []
  },
  {
   "cell_type": "code",
   "execution_count": null,
   "id": "076facb2",
   "metadata": {},
   "outputs": [],
   "source": []
  },
  {
   "cell_type": "code",
   "execution_count": null,
   "id": "b748365f",
   "metadata": {},
   "outputs": [],
   "source": []
  },
  {
   "cell_type": "code",
   "execution_count": null,
   "id": "3314ff27",
   "metadata": {},
   "outputs": [],
   "source": []
  },
  {
   "cell_type": "code",
   "execution_count": null,
   "id": "c639df4f",
   "metadata": {},
   "outputs": [],
   "source": []
  }
 ],
 "metadata": {
  "kernelspec": {
   "display_name": "Python 3",
   "language": "python",
   "name": "python3"
  },
  "language_info": {
   "codemirror_mode": {
    "name": "ipython",
    "version": 3
   },
   "file_extension": ".py",
   "mimetype": "text/x-python",
   "name": "python",
   "nbconvert_exporter": "python",
   "pygments_lexer": "ipython3",
   "version": "3.8.8"
  }
 },
 "nbformat": 4,
 "nbformat_minor": 5
}
